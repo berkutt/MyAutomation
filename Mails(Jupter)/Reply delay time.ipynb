{
 "cells": [
  {
   "cell_type": "markdown",
   "metadata": {},
   "source": [
    "# Get delay response time by substructing time of sent mail from recieving time of mail from same mailchain"
   ]
  },
  {
   "cell_type": "code",
   "execution_count": 33,
   "metadata": {},
   "outputs": [],
   "source": [
    "import pandas as pd"
   ]
  },
  {
   "cell_type": "markdown",
   "metadata": {},
   "source": [
    "## Load mails from Excel"
   ]
  },
  {
   "cell_type": "markdown",
   "metadata": {},
   "source": [
    "### Inbox"
   ]
  },
  {
   "cell_type": "code",
   "execution_count": 34,
   "metadata": {},
   "outputs": [],
   "source": [
    "inbox_df = pd.read_excel(\n",
    "    r\"\", sheet_name=\"Inbox\")"
   ]
  },
  {
   "cell_type": "markdown",
   "metadata": {},
   "source": [
    "### Sent Items"
   ]
  },
  {
   "cell_type": "code",
   "execution_count": 35,
   "metadata": {},
   "outputs": [],
   "source": [
    "sent_df = pd.read_excel(\n",
    "    r\"\", sheet_name=\"Sent Items\")"
   ]
  },
  {
   "cell_type": "markdown",
   "metadata": {},
   "source": [
    "### Sort data by RecievedTime and reset indexes"
   ]
  },
  {
   "cell_type": "code",
   "execution_count": 36,
   "metadata": {},
   "outputs": [],
   "source": [
    "inbox_df = inbox_df.sort_values('ReceivedTime')\n",
    "sent_df = sent_df.sort_values('ReceivedTime')\n",
    "inbox_df = inbox_df.reset_index(drop=True)\n",
    "sent_df = sent_df.reset_index(drop=True)"
   ]
  },
  {
   "cell_type": "code",
   "execution_count": 37,
   "metadata": {},
   "outputs": [
    {
     "name": "stdout",
     "output_type": "stream",
     "text": [
      "<class 'pandas.core.frame.DataFrame'>\n",
      "RangeIndex: 21186 entries, 0 to 21185\n",
      "Data columns (total 4 columns):\n",
      " #   Column        Non-Null Count  Dtype         \n",
      "---  ------        --------------  -----         \n",
      " 0   ReceivedTime  21186 non-null  datetime64[ns]\n",
      " 1   Recipient     21186 non-null  object        \n",
      " 2   ID            21186 non-null  object        \n",
      " 3   Full Name     21186 non-null  object        \n",
      "dtypes: datetime64[ns](1), object(3)\n",
      "memory usage: 662.2+ KB\n"
     ]
    }
   ],
   "source": [
    "sent_df.info()"
   ]
  },
  {
   "cell_type": "markdown",
   "metadata": {},
   "source": [
    "### Add new column DelayTime"
   ]
  },
  {
   "cell_type": "code",
   "execution_count": 38,
   "metadata": {},
   "outputs": [],
   "source": [
    "sent_df[\"DelayTime\"] = \"\""
   ]
  },
  {
   "cell_type": "code",
   "execution_count": 39,
   "metadata": {},
   "outputs": [
    {
     "name": "stdout",
     "output_type": "stream",
     "text": [
      "<class 'pandas.core.frame.DataFrame'>\n",
      "RangeIndex: 21186 entries, 0 to 21185\n",
      "Data columns (total 5 columns):\n",
      " #   Column        Non-Null Count  Dtype         \n",
      "---  ------        --------------  -----         \n",
      " 0   ReceivedTime  21186 non-null  datetime64[ns]\n",
      " 1   Recipient     21186 non-null  object        \n",
      " 2   ID            21186 non-null  object        \n",
      " 3   Full Name     21186 non-null  object        \n",
      " 4   DelayTime     21186 non-null  object        \n",
      "dtypes: datetime64[ns](1), object(4)\n",
      "memory usage: 827.7+ KB\n"
     ]
    }
   ],
   "source": [
    "sent_df.info()"
   ]
  },
  {
   "cell_type": "markdown",
   "metadata": {},
   "source": [
    "## Find mails into Inbox and Sent by ID. Compare time in both"
   ]
  },
  {
   "cell_type": "code",
   "execution_count": 40,
   "metadata": {},
   "outputs": [],
   "source": [
    "list_of_id = tuple(set(inbox_df.ID))\n",
    "\n",
    "\n",
    "for sample_id in list_of_id:\n",
    "    inbox_iter = 0\n",
    "    sent_iter = 0\n",
    "\n",
    "    inbox_rows_list = inbox_df.loc[inbox_df[\"ID\"] == sample_id].index\n",
    "    sent_rows_list = sent_df.loc[sent_df[\"ID\"] == sample_id].index\n",
    "\n",
    "    if len(sent_rows_list) == 0:\n",
    "        continue\n",
    "\n",
    "    while True:\n",
    "        inbox_time = inbox_df.iloc[inbox_rows_list[inbox_iter], 0]\n",
    "        sent_time = sent_df.iloc[sent_rows_list[sent_iter], 0]\n",
    "\n",
    "        if sent_time > inbox_time:\n",
    "            sent_df.loc[(sent_df['ReceivedTime'] == sent_time) & (\n",
    "                sent_df['ID'] == sample_id), \"DelayTime\"] = sent_time - inbox_time\n",
    "            #sent_df.iloc[sent_rows_list[sent_iter],-1]  = sent_time - inbox_time\n",
    "            inbox_iter += 1\n",
    "\n",
    "            if len(inbox_rows_list) == inbox_iter:\n",
    "                break\n",
    "        sent_iter += 1\n",
    "        if len(sent_rows_list) == sent_iter:\n",
    "            break"
   ]
  },
  {
   "cell_type": "code",
   "execution_count": null,
   "metadata": {},
   "outputs": [],
   "source": [
    "sent_df.head(20)"
   ]
  },
  {
   "cell_type": "markdown",
   "metadata": {},
   "source": [
    "### Check the results by loading mail from one mailchain"
   ]
  },
  {
   "cell_type": "code",
   "execution_count": 43,
   "metadata": {},
   "outputs": [
    {
     "data": {
      "text/html": [
       "<div>\n",
       "<style scoped>\n",
       "    .dataframe tbody tr th:only-of-type {\n",
       "        vertical-align: middle;\n",
       "    }\n",
       "\n",
       "    .dataframe tbody tr th {\n",
       "        vertical-align: top;\n",
       "    }\n",
       "\n",
       "    .dataframe thead th {\n",
       "        text-align: right;\n",
       "    }\n",
       "</style>\n",
       "<table border=\"1\" class=\"dataframe\">\n",
       "  <thead>\n",
       "    <tr style=\"text-align: right;\">\n",
       "      <th></th>\n",
       "      <th>ReceivedTime</th>\n",
       "      <th>Categories</th>\n",
       "      <th>SenderName</th>\n",
       "      <th>ID</th>\n",
       "      <th>Full Name</th>\n",
       "    </tr>\n",
       "  </thead>\n",
       "  <tbody>\n",
       "  </tbody>\n",
       "</table>\n",
       "</div>"
      ],
      "text/plain": [
       "Empty DataFrame\n",
       "Columns: [ReceivedTime, Categories, SenderName, ID, Full Name]\n",
       "Index: []"
      ]
     },
     "execution_count": 43,
     "metadata": {},
     "output_type": "execute_result"
    }
   ],
   "source": [
    "sample_id = \"\"\n",
    "inbox_df.loc[inbox_df[\"ID\"]==sample_id]"
   ]
  },
  {
   "cell_type": "code",
   "execution_count": 44,
   "metadata": {},
   "outputs": [
    {
     "data": {
      "text/html": [
       "<div>\n",
       "<style scoped>\n",
       "    .dataframe tbody tr th:only-of-type {\n",
       "        vertical-align: middle;\n",
       "    }\n",
       "\n",
       "    .dataframe tbody tr th {\n",
       "        vertical-align: top;\n",
       "    }\n",
       "\n",
       "    .dataframe thead th {\n",
       "        text-align: right;\n",
       "    }\n",
       "</style>\n",
       "<table border=\"1\" class=\"dataframe\">\n",
       "  <thead>\n",
       "    <tr style=\"text-align: right;\">\n",
       "      <th></th>\n",
       "      <th>ReceivedTime</th>\n",
       "      <th>Recipient</th>\n",
       "      <th>ID</th>\n",
       "      <th>Full Name</th>\n",
       "      <th>DelayTime</th>\n",
       "    </tr>\n",
       "  </thead>\n",
       "  <tbody>\n",
       "  </tbody>\n",
       "</table>\n",
       "</div>"
      ],
      "text/plain": [
       "Empty DataFrame\n",
       "Columns: [ReceivedTime, Recipient, ID, Full Name, DelayTime]\n",
       "Index: []"
      ]
     },
     "execution_count": 44,
     "metadata": {},
     "output_type": "execute_result"
    }
   ],
   "source": [
    "sent_df.loc[sent_df[\"ID\"]==sample_id]"
   ]
  },
  {
   "cell_type": "markdown",
   "metadata": {},
   "source": [
    "## Save results into Excel file"
   ]
  },
  {
   "cell_type": "code",
   "execution_count": 45,
   "metadata": {},
   "outputs": [],
   "source": [
    "writer = pd.ExcelWriter(r'')"
   ]
  },
  {
   "cell_type": "code",
   "execution_count": 46,
   "metadata": {},
   "outputs": [],
   "source": [
    "inbox_df.to_excel(writer, sheet_name='Inbox',index=False)\n",
    "sent_df.to_excel(writer, sheet_name='Sent Items', index=False)\n",
    "writer.save()"
   ]
  }
 ],
 "metadata": {
  "kernelspec": {
   "display_name": "Python 3 (ipykernel)",
   "language": "python",
   "name": "python3"
  },
  "language_info": {
   "codemirror_mode": {
    "name": "ipython",
    "version": 3
   },
   "file_extension": ".py",
   "mimetype": "text/x-python",
   "name": "python",
   "nbconvert_exporter": "python",
   "pygments_lexer": "ipython3",
   "version": "3.9.12"
  }
 },
 "nbformat": 4,
 "nbformat_minor": 4
}
