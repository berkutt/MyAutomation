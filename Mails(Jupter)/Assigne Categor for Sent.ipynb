{
 "cells": [
  {
   "cell_type": "code",
   "execution_count": null,
   "metadata": {},
   "outputs": [],
   "source": [
    "import pandas as pd"
   ]
  },
  {
   "cell_type": "markdown",
   "metadata": {},
   "source": [
    "## Load Excel file with mails. Inbox and Sent_items as two separate df"
   ]
  },
  {
   "cell_type": "code",
   "execution_count": 24,
   "metadata": {},
   "outputs": [],
   "source": [
    "inbox_df = pd.read_excel(\n",
    "    r\"\", sheet_name=\"Inbox\", na_values=\"blank\")\n",
    "inbox_df = inbox_df.drop(\n",
    "    inbox_df.columns[[-1, -1, -2, -3, -4, -5, -6]], axis=1)\n",
    "sent_df = pd.read_excel(\n",
    "    r'', sheet_name=\"Sent Items\")\n",
    "sent_df = sent_df.drop(sent_df.columns[[-1, -2, -3, -4, -5, -6]], axis=1)"
   ]
  },
  {
   "cell_type": "code",
   "execution_count": null,
   "metadata": {},
   "outputs": [],
   "source": [
    "sent_df.head()"
   ]
  },
  {
   "cell_type": "markdown",
   "metadata": {},
   "source": [
    "## Load Excel file with team members and their category for specific mailbox"
   ]
  },
  {
   "cell_type": "code",
   "execution_count": 26,
   "metadata": {},
   "outputs": [],
   "source": [
    "ExcelWithTeam = pd.read_excel(r'')\n"
   ]
  },
  {
   "cell_type": "code",
   "execution_count": null,
   "metadata": {},
   "outputs": [],
   "source": [
    "ExcelWithTeam"
   ]
  },
  {
   "cell_type": "code",
   "execution_count": null,
   "metadata": {},
   "outputs": [],
   "source": [
    "index_dict = dict()\n",
    "for index, name in enumerate(ExcelWithTeam[\"Text in mail\"]): \n",
    "    index_dict[index] = name\n",
    "index_dict"
   ]
  },
  {
   "cell_type": "code",
   "execution_count": 29,
   "metadata": {},
   "outputs": [],
   "source": [
    "def search_fullname_sent(dict_value):\n",
    "    for index, name in index_dict.items():\n",
    "        if name == dict_value:\n",
    "            return ExcelWithTeam[\"Full name\"][index]"
   ]
  },
  {
   "cell_type": "markdown",
   "metadata": {},
   "source": [
    "## Parse mailchain by word \"From\" and then try in first mail find name."
   ]
  },
  {
   "cell_type": "code",
   "execution_count": 30,
   "metadata": {},
   "outputs": [],
   "source": [
    "MyCollegues = []\n",
    "for Name in ExcelWithTeam[\"Text in mail\"]:\n",
    "    MyCollegues.append(Name.strip())\n",
    "\n",
    "MyMatch = bool\n",
    "NameList = [] #list that will be converted into the column in df\n",
    "for massage in sent_df['Body']:\n",
    "    MyMatch = False\n",
    "    massage = str(massage)\n",
    "    splitMassage = massage.split(\"From\")\n",
    "    for mail in splitMassage:\n",
    "        if not MyMatch:\n",
    "            for Name in MyCollegues:\n",
    "                if mail.lower().count(Name.lower()) != 0:\n",
    "                    MyMatch = True\n",
    "                    NameList.append(search_fullname_sent(Name))\n",
    "                    break\n",
    "        else:\n",
    "            break\n",
    "    if not MyMatch:\n",
    "        NameList.append(\"Unknown\")\n",
    "    MyMatch = False\n",
    "\n",
    "sent_df['Full Name'] = NameList"
   ]
  },
  {
   "cell_type": "markdown",
   "metadata": {},
   "source": [
    "### Body will not be needed anymore"
   ]
  },
  {
   "cell_type": "code",
   "execution_count": 31,
   "metadata": {},
   "outputs": [],
   "source": [
    "sent_df = sent_df.drop(columns=\"Body\")"
   ]
  },
  {
   "cell_type": "markdown",
   "metadata": {},
   "source": [
    "### Split recipients. Duplicate each line with new recipient. "
   ]
  },
  {
   "cell_type": "code",
   "execution_count": 32,
   "metadata": {},
   "outputs": [],
   "source": [
    "sent_df2 = sent_df.assign(Recipient=sent_df['Recipient'].str.split(';')).explode('Recipient')\n",
    "\n",
    "for recipient in sent_df2.Recipient:\n",
    "    recipient2 = str(recipient).strip()\n",
    "    sent_df2['Recipient'] = sent_df2['Recipient'].replace(recipient, recipient2)\n",
    "    \n",
    "sent_df2 = sent_df2[(sent_df2.Recipient != \"\")]"
   ]
  },
  {
   "cell_type": "markdown",
   "metadata": {},
   "source": [
    "### Try to assigne category for Incoming mails without it"
   ]
  },
  {
   "cell_type": "code",
   "execution_count": 33,
   "metadata": {},
   "outputs": [
    {
     "name": "stdout",
     "output_type": "stream",
     "text": [
      "<class 'pandas.core.frame.DataFrame'>\n",
      "RangeIndex: 10308 entries, 0 to 10307\n",
      "Data columns (total 4 columns):\n",
      " #   Column        Non-Null Count  Dtype         \n",
      "---  ------        --------------  -----         \n",
      " 0   ReceivedTime  10308 non-null  datetime64[ns]\n",
      " 1   Categories    6736 non-null   object        \n",
      " 2   SenderName    10308 non-null  object        \n",
      " 3   ID            10308 non-null  object        \n",
      "dtypes: datetime64[ns](1), object(3)\n",
      "memory usage: 322.2+ KB\n"
     ]
    }
   ],
   "source": [
    "inbox_df.info()\n",
    "# in case some categories are missing, it would be possible still to assign some mails, \n",
    "# by searching for was selected most for each ConversationID (done in Power BI)"
   ]
  },
  {
   "cell_type": "code",
   "execution_count": 34,
   "metadata": {},
   "outputs": [],
   "source": [
    "inbox_df.Categories = inbox_df.Categories.astype(str)"
   ]
  },
  {
   "cell_type": "markdown",
   "metadata": {},
   "source": [
    "## Assinge full name to Inbox categories"
   ]
  },
  {
   "cell_type": "code",
   "execution_count": null,
   "metadata": {},
   "outputs": [],
   "source": [
    "index_dict = dict()\n",
    "for index, name in enumerate(ExcelWithTeam[\"Category\"]): \n",
    "    index_dict[index] = name\n",
    "index_dict"
   ]
  },
  {
   "cell_type": "code",
   "execution_count": 36,
   "metadata": {},
   "outputs": [],
   "source": [
    "def search_fullname_inbox(dict_value):\n",
    "    for index, name in index_dict.items(): \n",
    "        if name == dict_value:\n",
    "            return ExcelWithTeam[\"Full name\"][index]"
   ]
  },
  {
   "cell_type": "code",
   "execution_count": null,
   "metadata": {},
   "outputs": [],
   "source": [
    "MyMatch = bool\n",
    "NameList = [] #list that will be converted into the column in df\n",
    "for categor in inbox_df['Categories']:\n",
    "    NameList.append(search_fullname_inbox(categor))\n",
    "\n",
    "inbox_df['Full Name'] = NameList\n",
    "\n",
    "inbox_df.head(10)"
   ]
  },
  {
   "cell_type": "code",
   "execution_count": null,
   "metadata": {},
   "outputs": [],
   "source": [
    "#inbox_df.groupby(\"Full Name\").count()\n",
    "print(inbox_df.groupby(\"Categories\").count())\n",
    "print(sent_df2.groupby(\"Full Name\").count())"
   ]
  },
  {
   "cell_type": "code",
   "execution_count": 39,
   "metadata": {},
   "outputs": [],
   "source": [
    "writer = pd.ExcelWriter(\n",
    "    r'')"
   ]
  },
  {
   "cell_type": "code",
   "execution_count": 40,
   "metadata": {},
   "outputs": [],
   "source": [
    "inbox_df.to_excel(writer, sheet_name='Inbox',index=False)\n",
    "sent_df2.to_excel(writer, sheet_name='Sent Items', index=False)\n",
    "writer.save()"
   ]
  }
 ],
 "metadata": {
  "kernelspec": {
   "display_name": "Python 3 (ipykernel)",
   "language": "python",
   "name": "python3"
  },
  "language_info": {
   "codemirror_mode": {
    "name": "ipython",
    "version": 3
   },
   "file_extension": ".py",
   "mimetype": "text/x-python",
   "name": "python",
   "nbconvert_exporter": "python",
   "pygments_lexer": "ipython3",
   "version": "3.9.12"
  }
 },
 "nbformat": 4,
 "nbformat_minor": 4
}
