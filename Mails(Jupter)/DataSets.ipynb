{
 "cells": [
  {
   "cell_type": "code",
   "execution_count": null,
   "metadata": {},
   "outputs": [],
   "source": []
  },
  {
   "cell_type": "code",
   "execution_count": null,
   "metadata": {},
   "outputs": [],
   "source": [
    "import pandas as pd\n",
    "import pickle\n",
    "\n",
    "class write_read_data:\n",
    "\n",
    "    # data i/o methods, filter rows\n",
    "\n",
    "    def read_excel(self, path, sheet=None, print_flag=False):\n",
    "        if print_flag:\n",
    "            print(\"Loading excel\", path)\n",
    "        return pd.read_excel(path)\n",
    "\n",
    "    def write_excel(self, path, data, print_flag=False):\n",
    "        if print_flag:\n",
    "            print(\"Write to excel\", path)\n",
    "        return data.to_excel(path, index=False)\n",
    "\n",
    "    def read_pickle(self, path, print_flag=False):\n",
    "        if print_flag:\n",
    "            print(\"Loading pickle\", path)\n",
    "        with open(path, 'rb') as handle:\n",
    "            return pickle.load(handle)\n",
    "\n",
    "    def write_pickle(self, path, data, print_flag=False):\n",
    "        if print_flag:\n",
    "            print(\"Write to pickle\", path)\n",
    "        with open(path, 'wb') as handle:\n",
    "            return pickle.dump(data, handle)"
   ]
  },
  {
   "cell_type": "code",
   "execution_count": null,
   "metadata": {},
   "outputs": [],
   "source": []
  },
  {
   "cell_type": "code",
   "execution_count": 3,
   "metadata": {},
   "outputs": [],
   "source": [
    "# manage data storage and data types here\n",
    "\n",
    "#todo DELETE THIS ONE\n",
    "class ExcelDataset:\n",
    "    def get_path(self, filename):\n",
    "        raise NotImplementedError(\"Define your dataset get_path\")\n",
    "\n",
    "    def read_data(self, filename):\n",
    "        return utils.write_read_data().read_excel(self.get_path(filename))\n",
    "    \n",
    "    def write_data(self, filename, data):\n",
    "        return utils.write_read_data().write_excel(self.get_path(filename), data)\n",
    "\n",
    "    def read_data_pickle(self, filename):\n",
    "        return utils.write_read_data().read_pickle(self.get_path(filename))\n",
    "\n",
    "    def write_data_pickle(self, filename, data):\n",
    "        return utils.write_read_data().write_pickle(self.get_path(filename), data)\n",
    "\n",
    "    def get_path(self, datatype):\n",
    "        return self.root + self.datatypes[datatype]\n",
    "\n",
    "    "
   ]
  },
  {
   "cell_type": "code",
   "execution_count": 6,
   "metadata": {},
   "outputs": [],
   "source": [
    "class External_datasets:\n",
    "    def __init__(self, root=None):\n",
    "        if root is None:\n",
    "            import DataSource\n",
    "            root = DataSource.path\n",
    "        self.root = root\n",
    "        self.datatypes = {\n",
    "            'cleanlabelcut': 'ShipExprLabledCut.xlsx',\n",
    "            'livedata': 'LiveRawData.xlsx',\n",
    "            'MyTeamTeam' : 'ExportTeam.xlsx',\n",
    "            'Plant_with_country' : 'PlantCountry.xlsx',\n",
    "            'initmails' : 'df.pickle',\n",
    "            'cleanedmails': 'df2.pickle',\n",
    "            'ML_model': 'df_temp.pickle',\n",
    "            'Vectorizer': 'df2_temp.pickle',\n",
    "\n",
    "        }"
   ]
  },
  {
   "cell_type": "code",
   "execution_count": null,
   "metadata": {},
   "outputs": [],
   "source": []
  }
 ],
 "metadata": {
  "kernelspec": {
   "display_name": "Python 3 (ipykernel)",
   "language": "python",
   "name": "python3"
  },
  "language_info": {
   "codemirror_mode": {
    "name": "ipython",
    "version": 3
   },
   "file_extension": ".py",
   "mimetype": "text/x-python",
   "name": "python",
   "nbconvert_exporter": "python",
   "pygments_lexer": "ipython3",
   "version": "3.9.12"
  }
 },
 "nbformat": 4,
 "nbformat_minor": 4
}
